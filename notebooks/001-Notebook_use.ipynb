{
 "cells": [
  {
   "cell_type": "markdown",
   "metadata": {},
   "source": [
    "\n",
    "# Purpose\n",
    "\n",
    "This is a jupyter notebook designed to let you get used to notebooks, and to test your python and notebooks installation.\n",
    "\n",
    "You can find much information on using notebooks on the [web](https://jupyter.org/), so you might start by exploring some of that.\n",
    "\n",
    "## Some resources\n",
    "\n",
    "There is a useful [cheatsheet](docs/JupyterLab-Notebook-Cheatsheet.pdf) \n",
    "\n",
    "\n",
    "## How we will be using notebooks\n",
    "\n",
    "We will be using notebooks to present coursenotes and view and run exercises. We will mainly be doing that using the [anaconda distribution of python](https://anaconda.org/anaconda/python). This should already be installed for you if you are viewing this, but we will runs some tests below just to make sure.\n",
    "\n",
    "The notebook is made up of a series of [cells](https://jupyter-notebook.readthedocs.io/en/stable/notebook.html#:~:text=A%20cell%20is%20a%20multiline,markdown%20cells%2C%20and%20raw%20cells). Some cells, such as the one this is written in, are 'text' cells, where we format the text in a language called [markdown](https://jupyter-notebook.readthedocs.io/en/stable/examples/Notebook/Working%20With%20Markdown%20Cells.html).\n",
    "\n"
   ]
  },
  {
   "cell_type": "markdown",
   "metadata": {},
   "source": [
    "Take a few minutes to explore the notebook menu, and note how to do things like:\n",
    "\n",
    "* save the notebook\n",
    "* save the notebook with a checkpoint: useful for exercises, as you can go back to previous versions!\n",
    "* make a copy of the notebook and rename it\n",
    "* download the notebook as a pdf\n",
    "* restart the kernel (the 'engine' running this notebook)\n",
    "* restart the kernel and clear output"
   ]
  },
  {
   "cell_type": "markdown",
   "metadata": {
    "solution2": "hidden",
    "solution2_first": true
   },
   "source": [
    "### Exercise: add a cell\n",
    "\n",
    "We can add new cells to this document via the `Insert -> Insert Cell Below` menu in the menu bar at the top of this document.\n",
    "\n",
    "Notice that you can double click on a cell to edit its contents.\n",
    "\n",
    "Add a cell now, below, and use the `Cell -> Cell Type` menu to make this cell type `markdown`. Add some text in there ... lyrics from your favourite song, whatever comes into your head ...\n"
   ]
  },
  {
   "cell_type": "markdown",
   "metadata": {
    "solution2": "hidden"
   },
   "source": [
    "Here is some text I typed!!\n",
    "\n",
    "The first time ever I saw your face ..."
   ]
  },
  {
   "cell_type": "markdown",
   "metadata": {},
   "source": [
    "### Exercise: add some cell formatting\n"
   ]
  },
  {
   "cell_type": "markdown",
   "metadata": {
    "solution2": "hidden",
    "solution2_first": true
   },
   "source": [
    "\n",
    "Add another cell now, below, and use the Cell -> Cell Type menu to make this cell type markdown. \n",
    "\n",
    "This time, include one or more of the [following features](https://github.com/adam-p/markdown-here/wiki/Markdown-Cheatsheet):\n",
    "\n",
    "* a heading\n",
    "* a sub-heading\n",
    "* and equation\n",
    "* links to a web page\n",
    "* a table\n",
    "* a image\n",
    "* some html"
   ]
  },
  {
   "cell_type": "markdown",
   "metadata": {
    "solution2": "hidden"
   },
   "source": [
    "# Main Heading\n",
    "\n",
    "## equation\n",
    "\n",
    "\\begin{equation*}\n",
    "\\left( \\sum_{k=1}^n a_k b_k \\right)^2 \\leq \\left( \\sum_{k=1}^n a_k^2 \\right) \\left( \\sum_{k=1}^n b_k^2 \\right)\n",
    "\\end{equation*}\n",
    "\n",
    "### link\n",
    "\n",
    "[click me and I will pop up a google search window](https://www.google.com)\n",
    "\n",
    "### table\n",
    "\n",
    "| a | b | c | d | e |\n",
    "|:-:|:-:|:-:|:-:|-|\n",
    "| 🙈 | 💥 | 🦧 | 🐇 | 🐪 |\n",
    "| f | g | h | i | j |\n",
    "| 🙈 | 💥 | 🦧 | 🐇 | 🐪 |\n",
    "\n",
    "### image\n",
    "\n",
    "![ucl logo](images/ucl_logo.png)\n",
    "\n",
    "\n",
    "### html\n",
    "\n",
    "<html>\n",
    "\n",
    "<h2>HTML</h2>\n",
    "\n",
    "<p>Hey, I'm a paragraph!</p>\n",
    "\n",
    "\n",
    "</body>\n",
    "</html>"
   ]
  },
  {
   "cell_type": "markdown",
   "metadata": {},
   "source": [
    "## Coding\n",
    "\n",
    "Next, let's try a code cell and do our first python coding.\n",
    "\n",
    "We will use the method `print()` to print out a `string` (a list of characters), for example:"
   ]
  },
  {
   "cell_type": "code",
   "execution_count": 1,
   "metadata": {},
   "outputs": [
    {
     "name": "stdout",
     "output_type": "stream",
     "text": [
      "hello world\n"
     ]
    }
   ],
   "source": [
    "# comment with a hash\n",
    "\n",
    "# set a string variable\n",
    "string = \"hello world\"\n",
    "\n",
    "# print this\n",
    "print(string)"
   ]
  },
  {
   "cell_type": "markdown",
   "metadata": {
    "solution2": "hidden",
    "solution2_first": true
   },
   "source": [
    "The type of cell we use is `Code` (rather than `Markdown` above).\n",
    "\n",
    "We *execute* ('run') the code in the cell, either with the `|> Run` button above, or by pressing the `SHIFT RETURN` keys at the same time. \n",
    "\n",
    "Try that out, running the code cell above.\n",
    "\n",
    "### Exercise\n",
    "\n",
    "Now:\n",
    "\n",
    "* create a code cell below\n",
    "* create a string with the text `hello again`\n",
    "* call the `print()` method with this as an [argument](https://en.wikipedia.org/wiki/Parameter_(computer_programming))\n",
    "* run the cell "
   ]
  },
  {
   "cell_type": "markdown",
   "metadata": {
    "heading_collapsed": true
   },
   "source": [
    "# Further thoughts and reading\n",
    "\n",
    "Some follow-up material for the curious."
   ]
  },
  {
   "cell_type": "markdown",
   "metadata": {
    "hidden": true
   },
   "source": [
    "\n",
    "## Variables\n",
    "\n",
    "\n",
    "### Extensions\n",
    "\n",
    "We have several [notebook extensions](https://github.com/ipython-contrib/jupyter_contrib_nbextensions) installed here. You won't necessarily find these pre-installed on any other version of notebooks that you run, but [they can be added](https://towardsdatascience.com/jupyter-notebook-extensions-517fa69d2231) and can be very powerful.\n",
    "\n",
    "These are shown in the graphical menu at the top of the page (the small squares). \n",
    "\n",
    "If you hover your cursor over these boxes, you will see a description of the extensions.\n",
    "\n",
    "\n",
    "### Variable Inspector\n",
    "* Locate the one called `variable inspector`, and click on this to open the Variable inspector window.\n",
    "* run the code block below, and notice how this affects the information presented.\n",
    "\n",
    "Although we can always access this information by other means, tools such as this can be very useful when you are coding (especially in notebooks!) for you to keep a check on the state of items in your program. \n",
    "\n",
    "A variable can be thought of as a box to store information in a computer program.\n",
    "\n",
    "The box (the variable) has a *name*, and some *contents*. It has some specified *size*. The box will be of some particular type: we use different types of variable to store different types of objects. \n",
    "\n",
    "The inspector here should tell you that there is a variable **named** `this_value`, that is of type `str` (string, as we shall see later), that it is of **size** 71 bytes, and that its **value** (the contents of the box) is `this is something else`.\n",
    "\n",
    "There is another variable, of type `int` (integer), called `len_this_value`, that has the value `22`. We generate this using the method `len()` in the code."
   ]
  },
  {
   "cell_type": "code",
   "execution_count": 11,
   "metadata": {
    "hidden": true
   },
   "outputs": [
    {
     "name": "stdout",
     "output_type": "stream",
     "text": [
      "this is something else 22\n"
     ]
    }
   ],
   "source": [
    "# comment with a hash\n",
    "\n",
    "# set a string variable\n",
    "this_value = \"this is something else\"\n",
    "len_this_value = len(this_value)\n",
    "\n",
    "# print this_value and the length\n",
    "print(this_value,len_this_value)"
   ]
  },
  {
   "cell_type": "markdown",
   "metadata": {
    "hidden": true,
    "solution2": "hidden",
    "solution2_first": true
   },
   "source": [
    "\n",
    "\n",
    "### Exercise\n",
    "\n",
    "* Make a new cell below, and type some python code in it. You may base this on the python code examples above, but you should use different variable names.\n",
    "* Describe (in english) the variables created, their types, sizes, and values in comments in the code cell."
   ]
  },
  {
   "cell_type": "markdown",
   "metadata": {
    "hidden": true,
    "solution2": "hidden",
    "solution2_first": true
   },
   "source": [
    "## Aside: real size of variable\n",
    "\n",
    "You may have noticed that the size of the variable, is larger than you might have guessed: a string is made of characteres, which need a byte each to represent them, so why then would a string of length 22 characters need 71 bytes to store it?\n",
    "\n",
    "The answer is that, as a high-level language, python has an overhead in both speed and storage space for variables over lower-level representations. It is the **representation** of the variable in python that uses 71 bytes here to store only 23 bytes of 'real' information. In python, the `str` variable stores more than just the characters of the string!\n",
    "\n",
    "We can see how much space different types of variable have using the method `sys.getsizeof()` if we need to. This is the same as the information on size given by the variable inspector.\n",
    "\n",
    "It is of value to be [aware of these issues](https://stackoverflow.com/questions/1331471/in-memory-size-of-a-python-structure) if you are to use large datasets."
   ]
  },
  {
   "cell_type": "code",
   "execution_count": 22,
   "metadata": {
    "hidden": true,
    "solution2": "hidden"
   },
   "outputs": [
    {
     "name": "stdout",
     "output_type": "stream",
     "text": [
      "'this_value' is of type <class 'str'> and is of length 22 but size 71\n"
     ]
    }
   ],
   "source": [
    "# import the sys library\n",
    "# Use \\ for line continuation\n",
    "import sys\n",
    "\n",
    "print(\"'this_value'\",\\\n",
    "      \"is of type\",type(this_value),\\\n",
    "      \"and is of length\",len(this_value),\\\n",
    "      \"but size\",sys.getsizeof(this_value))"
   ]
  },
  {
   "cell_type": "code",
   "execution_count": 13,
   "metadata": {
    "hidden": true,
    "solution2": "hidden"
   },
   "outputs": [],
   "source": [
    "one_string = \"a piece of string\"\n",
    "how_long = len(one_string)\n",
    "\n",
    "# Here, we create two variables:\n",
    "# One of type str, called one_string, with the value \"a piece of string\" and size 66 bytes\n",
    "# The other called how_long, of type int (integer) with 28 bytes with the value 17."
   ]
  },
  {
   "cell_type": "markdown",
   "metadata": {
    "hidden": true
   },
   "source": [
    "## What else?\n",
    "\n",
    "There is a lot more you can do in a notebook. \n",
    "\n",
    "One thing you might explore is the use of [cell magics](https://ipython.readthedocs.io/en/stable/interactive/magics.html) that allow you to all sorts of interesting things.\n",
    "\n",
    "One example is `%%bash`, which allows us to specify [`bash` shells](https://www.gnu.org/software/bash/) ... sometimes, some things are just easier to achieve in one language than another, and it's always good to know more than one way of doing anything.\n"
   ]
  },
  {
   "cell_type": "code",
   "execution_count": 5,
   "metadata": {
    "hidden": true
   },
   "outputs": [
    {
     "name": "stdout",
     "output_type": "stream",
     "text": [
      "hello world\n"
     ]
    }
   ],
   "source": [
    "%%bash \n",
    "# my first bash shell\n",
    "string='hello world'\n",
    "echo $string"
   ]
  },
  {
   "cell_type": "markdown",
   "metadata": {},
   "source": [
    "# Summary\n",
    "\n",
    "This notebook is designed mainly as a test that the setup for these notes is working.\n",
    "\n",
    "We have also used it to introduce some features of notebooks, and our very first `python` (and `bash`) codes!"
   ]
  }
 ],
 "metadata": {
  "gist": {
   "data": {
    "description": "Chapter0_help.ipynb",
    "public": true
   },
   "id": ""
  },
  "hide_input": false,
  "kernelspec": {
   "display_name": "Python 3",
   "language": "python",
   "name": "python3"
  },
  "language_info": {
   "codemirror_mode": {
    "name": "ipython",
    "version": 3
   },
   "file_extension": ".py",
   "mimetype": "text/x-python",
   "name": "python",
   "nbconvert_exporter": "python",
   "pygments_lexer": "ipython3",
   "version": "3.7.6"
  },
  "latex_envs": {
   "LaTeX_envs_menu_present": true,
   "autocomplete": true,
   "bibliofile": "biblio.bib",
   "cite_by": "apalike",
   "current_citInitial": 1,
   "eqLabelWithNumbers": true,
   "eqNumInitial": 1,
   "hotkeys": {
    "equation": "Ctrl-E",
    "itemize": "Ctrl-I"
   },
   "labels_anchors": false,
   "latex_user_defs": false,
   "report_style_numbering": false,
   "user_envs_cfg": false
  },
  "toc": {
   "base_numbering": "1.1",
   "nav_menu": {},
   "number_sections": false,
   "sideBar": true,
   "skip_h1_title": false,
   "title_cell": "Table of Contents",
   "title_sidebar": "Contents",
   "toc_cell": false,
   "toc_position": {
    "height": "calc(100% - 180px)",
    "left": "10px",
    "top": "150px",
    "width": "207px"
   },
   "toc_section_display": true,
   "toc_window_display": false
  },
  "varInspector": {
   "cols": {
    "lenName": 16,
    "lenType": 16,
    "lenVar": 40
   },
   "kernels_config": {
    "python": {
     "delete_cmd_postfix": "",
     "delete_cmd_prefix": "del ",
     "library": "var_list.py",
     "varRefreshCmd": "print(var_dic_list())"
    },
    "r": {
     "delete_cmd_postfix": ") ",
     "delete_cmd_prefix": "rm(",
     "library": "var_list.r",
     "varRefreshCmd": "cat(var_dic_list()) "
    }
   },
   "position": {
    "height": "247px",
    "left": "696px",
    "right": "20px",
    "top": "120px",
    "width": "335px"
   },
   "types_to_exclude": [
    "module",
    "function",
    "builtin_function_or_method",
    "instance",
    "_Feature"
   ],
   "window_display": false
  }
 },
 "nbformat": 4,
 "nbformat_minor": 1
}
